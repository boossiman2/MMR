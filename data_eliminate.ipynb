{
 "cells": [
  {
   "cell_type": "code",
   "execution_count": 77,
   "id": "bf91514e",
   "metadata": {},
   "outputs": [],
   "source": [
    "import pandas as pd"
   ]
  },
  {
   "cell_type": "code",
   "execution_count": 78,
   "id": "a09347ad",
   "metadata": {},
   "outputs": [],
   "source": [
    "movies_df = pd.read_csv('./data/ml-20m/movies.csv')\n",
    "noPoster_df = pd.read_csv('./data/NoPosterFound_Links.csv')\n",
    "ratings_df = pd.read_csv('./data/ml-20m/ratings.csv')\n",
    "plots_df = pd.read_csv('./data/plots.csv', names=['movieId','title','plot'])"
   ]
  },
  {
   "cell_type": "code",
   "execution_count": 134,
   "id": "833de6b2",
   "metadata": {},
   "outputs": [
    {
     "data": {
      "text/plain": [
       "[708, 17126]"
      ]
     },
     "execution_count": 134,
     "metadata": {},
     "output_type": "execute_result"
    }
   ],
   "source": [
    "noPoster = noPoster_df['movieId'].to_list()\n",
    "noPlot = plots_df[plots_df['plot'].isnull()].index.to_list()"
   ]
  },
  {
   "cell_type": "code",
   "execution_count": 87,
   "id": "c50c2960",
   "metadata": {},
   "outputs": [
    {
     "data": {
      "text/plain": [
       "(     movieId   imdbId    tmdbId\n",
       " 0        604   115978       NaN\n",
       " 1        644   116485  339428.0\n",
       " 2        654   118026  278978.0\n",
       " 3        721   114103       NaN\n",
       " 4        727   114894  365371.0\n",
       " ..       ...      ...       ...\n",
       " 335   128856  1821384  322260.0\n",
       " 336   129849  1604139  195186.0\n",
       " 337   129887   310741  157152.0\n",
       " 338   130466  4300028  328346.0\n",
       " 339   131110  1640103  333324.0\n",
       " \n",
       " [340 rows x 3 columns],\n",
       "           userId  movieId  rating   timestamp\n",
       " 0              1        2     3.5  1112486027\n",
       " 1              1       29     3.5  1112484676\n",
       " 2              1       32     3.5  1112484819\n",
       " 3              1       47     3.5  1112484727\n",
       " 4              1       50     3.5  1112484580\n",
       " ...          ...      ...     ...         ...\n",
       " 20000258  138493    68954     4.5  1258126920\n",
       " 20000259  138493    69526     4.5  1259865108\n",
       " 20000260  138493    69644     3.0  1260209457\n",
       " 20000261  138493    70286     5.0  1258126944\n",
       " 20000262  138493    71619     2.5  1255811136\n",
       " \n",
       " [20000263 rows x 4 columns],\n",
       "        movieId                            title  \\\n",
       " 0            1                        Toy Story   \n",
       " 1            2                          Jumanji   \n",
       " 2            3                 Grumpier Old Men   \n",
       " 3            4                Waiting to Exhale   \n",
       " 4            5      Father of the Bride Part II   \n",
       " ...        ...                              ...   \n",
       " 27273   131254             Kein Bund fürs Leben   \n",
       " 27274   131256           Feuer, Eis & Dosenbier   \n",
       " 27275   131258  Hae-jeok: Ba-da-ro gan san-jeok   \n",
       " 27276   131260                     Rentun ruusu   \n",
       " 27277   131262                        Innocence   \n",
       " \n",
       "                                                     plot  \n",
       " 0      A cowboy doll is profoundly threatened and jea...  \n",
       " 1      When two kids find and play a magical board ga...  \n",
       " 2      John and Max resolve to save their beloved bai...  \n",
       " 3      Based on Terry McMillan's novel, this film fol...  \n",
       " 4      George Banks must deal not only with the pregn...  \n",
       " ...                                                  ...  \n",
       " 27273  Basti, doesn't want to go to the Bundeswehr an...  \n",
       " 27274  Two friends who are doing civil service flee t...  \n",
       " 27275  A band of pirates and a group of bandits fight...  \n",
       " 27276       The life of Irwin Goodman, a Finnish singer.  \n",
       " 27277  A young woman discovers her elite Manhattan pr...  \n",
       " \n",
       " [27278 rows x 3 columns])"
      ]
     },
     "execution_count": 87,
     "metadata": {},
     "output_type": "execute_result"
    }
   ],
   "source": [
    "noPoster_df, ratings_df, plots_df"
   ]
  },
  {
   "cell_type": "code",
   "execution_count": 141,
   "id": "76b01d4e",
   "metadata": {},
   "outputs": [],
   "source": [
    "plots_df.drop(noPlot, axis=0, inplace=True)"
   ]
  },
  {
   "cell_type": "code",
   "execution_count": 142,
   "id": "b1c333ce",
   "metadata": {},
   "outputs": [],
   "source": [
    "def delete_noPoster(df1, df2, noPoster_lst):\n",
    "    df = pd.concat([df1, df2], axis=0)\n",
    "    df = df.reset_index(drop=True)\n",
    "    a = df[df['movieId'].isin(noPoster_lst)].index\n",
    "    df = df.drop(a, axis=0)\n",
    "    df.drop(['imdbId', 'tmdbId'], axis =1, inplace=True)\n",
    "    df = df.reset_index(drop=True)\n",
    "    return df"
   ]
  },
  {
   "cell_type": "code",
   "execution_count": 143,
   "id": "ec1eec6f",
   "metadata": {},
   "outputs": [],
   "source": [
    "del_plots_df = delete_noPoster(noPoster_df, plots_df, noPoster)\n",
    "del_ratings_df = delete_noPoster(noPoster_df, ratings_df, noPoster)"
   ]
  },
  {
   "cell_type": "code",
   "execution_count": 144,
   "id": "2644a865",
   "metadata": {},
   "outputs": [
    {
     "data": {
      "text/html": [
       "<div>\n",
       "<style scoped>\n",
       "    .dataframe tbody tr th:only-of-type {\n",
       "        vertical-align: middle;\n",
       "    }\n",
       "\n",
       "    .dataframe tbody tr th {\n",
       "        vertical-align: top;\n",
       "    }\n",
       "\n",
       "    .dataframe thead th {\n",
       "        text-align: right;\n",
       "    }\n",
       "</style>\n",
       "<table border=\"1\" class=\"dataframe\">\n",
       "  <thead>\n",
       "    <tr style=\"text-align: right;\">\n",
       "      <th></th>\n",
       "      <th>movieId</th>\n",
       "      <th>title</th>\n",
       "      <th>plot</th>\n",
       "    </tr>\n",
       "  </thead>\n",
       "  <tbody>\n",
       "    <tr>\n",
       "      <th>0</th>\n",
       "      <td>1</td>\n",
       "      <td>Toy Story</td>\n",
       "      <td>A cowboy doll is profoundly threatened and jea...</td>\n",
       "    </tr>\n",
       "    <tr>\n",
       "      <th>1</th>\n",
       "      <td>2</td>\n",
       "      <td>Jumanji</td>\n",
       "      <td>When two kids find and play a magical board ga...</td>\n",
       "    </tr>\n",
       "    <tr>\n",
       "      <th>2</th>\n",
       "      <td>3</td>\n",
       "      <td>Grumpier Old Men</td>\n",
       "      <td>John and Max resolve to save their beloved bai...</td>\n",
       "    </tr>\n",
       "    <tr>\n",
       "      <th>3</th>\n",
       "      <td>4</td>\n",
       "      <td>Waiting to Exhale</td>\n",
       "      <td>Based on Terry McMillan's novel, this film fol...</td>\n",
       "    </tr>\n",
       "    <tr>\n",
       "      <th>4</th>\n",
       "      <td>5</td>\n",
       "      <td>Father of the Bride Part II</td>\n",
       "      <td>George Banks must deal not only with the pregn...</td>\n",
       "    </tr>\n",
       "    <tr>\n",
       "      <th>...</th>\n",
       "      <td>...</td>\n",
       "      <td>...</td>\n",
       "      <td>...</td>\n",
       "    </tr>\n",
       "    <tr>\n",
       "      <th>26931</th>\n",
       "      <td>131254</td>\n",
       "      <td>Kein Bund fürs Leben</td>\n",
       "      <td>Basti, doesn't want to go to the Bundeswehr an...</td>\n",
       "    </tr>\n",
       "    <tr>\n",
       "      <th>26932</th>\n",
       "      <td>131256</td>\n",
       "      <td>Feuer, Eis &amp; Dosenbier</td>\n",
       "      <td>Two friends who are doing civil service flee t...</td>\n",
       "    </tr>\n",
       "    <tr>\n",
       "      <th>26933</th>\n",
       "      <td>131258</td>\n",
       "      <td>Hae-jeok: Ba-da-ro gan san-jeok</td>\n",
       "      <td>A band of pirates and a group of bandits fight...</td>\n",
       "    </tr>\n",
       "    <tr>\n",
       "      <th>26934</th>\n",
       "      <td>131260</td>\n",
       "      <td>Rentun ruusu</td>\n",
       "      <td>The life of Irwin Goodman, a Finnish singer.</td>\n",
       "    </tr>\n",
       "    <tr>\n",
       "      <th>26935</th>\n",
       "      <td>131262</td>\n",
       "      <td>Innocence</td>\n",
       "      <td>A young woman discovers her elite Manhattan pr...</td>\n",
       "    </tr>\n",
       "  </tbody>\n",
       "</table>\n",
       "<p>26936 rows × 3 columns</p>\n",
       "</div>"
      ],
      "text/plain": [
       "       movieId                            title  \\\n",
       "0            1                        Toy Story   \n",
       "1            2                          Jumanji   \n",
       "2            3                 Grumpier Old Men   \n",
       "3            4                Waiting to Exhale   \n",
       "4            5      Father of the Bride Part II   \n",
       "...        ...                              ...   \n",
       "26931   131254             Kein Bund fürs Leben   \n",
       "26932   131256           Feuer, Eis & Dosenbier   \n",
       "26933   131258  Hae-jeok: Ba-da-ro gan san-jeok   \n",
       "26934   131260                     Rentun ruusu   \n",
       "26935   131262                        Innocence   \n",
       "\n",
       "                                                    plot  \n",
       "0      A cowboy doll is profoundly threatened and jea...  \n",
       "1      When two kids find and play a magical board ga...  \n",
       "2      John and Max resolve to save their beloved bai...  \n",
       "3      Based on Terry McMillan's novel, this film fol...  \n",
       "4      George Banks must deal not only with the pregn...  \n",
       "...                                                  ...  \n",
       "26931  Basti, doesn't want to go to the Bundeswehr an...  \n",
       "26932  Two friends who are doing civil service flee t...  \n",
       "26933  A band of pirates and a group of bandits fight...  \n",
       "26934       The life of Irwin Goodman, a Finnish singer.  \n",
       "26935  A young woman discovers her elite Manhattan pr...  \n",
       "\n",
       "[26936 rows x 3 columns]"
      ]
     },
     "execution_count": 144,
     "metadata": {},
     "output_type": "execute_result"
    }
   ],
   "source": [
    "del_plots_df"
   ]
  },
  {
   "cell_type": "code",
   "execution_count": 147,
   "id": "04e55bd5",
   "metadata": {},
   "outputs": [],
   "source": [
    "del_plots_df.to_csv('./data/del_plots.csv', mode='w')\n",
    "del_ratings_df.to_csv('./data/del_ratings.csv', mode='w')"
   ]
  }
 ],
 "metadata": {
  "kernelspec": {
   "display_name": "Python 3 (ipykernel)",
   "language": "python",
   "name": "python3"
  },
  "language_info": {
   "codemirror_mode": {
    "name": "ipython",
    "version": 3
   },
   "file_extension": ".py",
   "mimetype": "text/x-python",
   "name": "python",
   "nbconvert_exporter": "python",
   "pygments_lexer": "ipython3",
   "version": "3.8.12"
  }
 },
 "nbformat": 4,
 "nbformat_minor": 5
}
