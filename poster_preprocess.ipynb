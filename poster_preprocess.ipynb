{
 "cells": [
  {
   "cell_type": "code",
   "execution_count": 2,
   "id": "d13235f7",
   "metadata": {},
   "outputs": [],
   "source": [
    "import os\n",
    "import pickle\n",
    "import numpy as np\n",
    "\n",
    "from matplotlib import pyplot as plt\n",
    "from tensorflow.keras.preprocessing import image\n",
    "from tensorflow.keras.applications.efficientnet_v2 import preprocess_input, EfficientNetV2B2\n",
    "\n",
    "from skimage.transform import resize\n",
    "\n",
    "from util import TQDMPredictCallback"
   ]
  },
  {
   "cell_type": "code",
   "execution_count": 3,
   "id": "1cd6e980",
   "metadata": {},
   "outputs": [],
   "source": [
    "class Posters_preprocessor:\n",
    "    def __init__(self):\n",
    "        self.model = None\n",
    "\n",
    "    def load_posters(self, path: str) -> np.ndarray:\n",
    "        posters_list = np.zeros((26938,140,140,3), dtype=np.int8)\n",
    "        print('*** Load Posters dataset ***')\n",
    "        for idx, i in enumerate(os.listdir(path)):\n",
    "            if idx % 1000 == 0:\n",
    "                print(f'{idx}/{len(os.listdir(path))}')\n",
    "            img_path = path+i\n",
    "            img = image.load_img(img_path, target_size=(140,140))\n",
    "            x = image.img_to_array(img)\n",
    "            x = np.expand_dims(x, axis=0)\n",
    "            x = preprocess_input(img)\n",
    "            posters_list[idx] = x\n",
    "        return posters_list\n",
    "\n",
    "    def load_model(self) -> None:\n",
    "        print('*** Load EfficientNetV2B2 Model ***')\n",
    "        self.model = EfficientNetV2B2(include_top=False, weights='imagenet')\n",
    "\n",
    "    def predict(self, resize_poster_lst: np.ndarray):\n",
    "        feature_map = self.model.predict(resize_poster_lst)\n",
    "        return feature_map"
   ]
  },
  {
   "cell_type": "code",
   "execution_count": 6,
   "id": "6399bdd0",
   "metadata": {
    "pycharm": {
     "name": "#%%\n"
    }
   },
   "outputs": [],
   "source": [
    "# MAIN"
   ]
  },
  {
   "cell_type": "code",
   "execution_count": 7,
   "id": "046bffd3",
   "metadata": {
    "pycharm": {
     "name": "#%%\n"
    }
   },
   "outputs": [],
   "source": [
    "PATH = './data/MLP-20M/'"
   ]
  },
  {
   "cell_type": "code",
   "execution_count": 8,
   "id": "ab023c4c",
   "metadata": {
    "pycharm": {
     "name": "#%%\n"
    }
   },
   "outputs": [],
   "source": [
    "preprocessor = Posters_preprocessor()"
   ]
  },
  {
   "cell_type": "code",
   "execution_count": 9,
   "id": "c9237aeb",
   "metadata": {
    "pycharm": {
     "name": "#%%\n"
    }
   },
   "outputs": [
    {
     "name": "stdout",
     "output_type": "stream",
     "text": [
      "*** Load EfficientNetV2B2 Model ***\n"
     ]
    }
   ],
   "source": [
    "preprocessor.load_model()"
   ]
  },
  {
   "cell_type": "code",
   "execution_count": 10,
   "id": "fe908b8d",
   "metadata": {
    "pycharm": {
     "name": "#%%\n"
    }
   },
   "outputs": [
    {
     "name": "stdout",
     "output_type": "stream",
     "text": [
      "*** Load Posters dataset ***\n",
      "0/26938\n",
      "1000/26938\n",
      "2000/26938\n",
      "3000/26938\n",
      "4000/26938\n",
      "5000/26938\n",
      "6000/26938\n",
      "7000/26938\n",
      "8000/26938\n",
      "9000/26938\n",
      "10000/26938\n",
      "11000/26938\n",
      "12000/26938\n",
      "13000/26938\n",
      "14000/26938\n",
      "15000/26938\n",
      "16000/26938\n",
      "17000/26938\n",
      "18000/26938\n",
      "19000/26938\n",
      "20000/26938\n",
      "21000/26938\n",
      "22000/26938\n",
      "23000/26938\n",
      "24000/26938\n",
      "25000/26938\n",
      "26000/26938\n"
     ]
    }
   ],
   "source": [
    "posters_lst = preprocessor.load_posters(PATH)"
   ]
  },
  {
   "cell_type": "code",
   "execution_count": 11,
   "id": "49d58e97",
   "metadata": {
    "pycharm": {
     "name": "#%%\n"
    }
   },
   "outputs": [
    {
     "data": {
      "text/plain": [
       "(26938, 140, 140, 3)"
      ]
     },
     "execution_count": 11,
     "metadata": {},
     "output_type": "execute_result"
    }
   ],
   "source": [
    "posters_lst.shape"
   ]
  },
  {
   "cell_type": "code",
   "execution_count": 12,
   "id": "70618d6a",
   "metadata": {
    "pycharm": {
     "name": "#%%\n"
    }
   },
   "outputs": [],
   "source": [
    "pickle.dump(posters_lst, open('./data/posters_resize.pickle', 'wb'), protocol=4)"
   ]
  },
  {
   "cell_type": "code",
   "execution_count": null,
   "outputs": [],
   "source": [],
   "metadata": {
    "collapsed": false,
    "pycharm": {
     "name": "#%%\n"
    }
   }
  },
  {
   "cell_type": "code",
   "execution_count": null,
   "id": "20540441",
   "metadata": {
    "pycharm": {
     "name": "#%%\n"
    }
   },
   "outputs": [],
   "source": []
  },
  {
   "cell_type": "code",
   "execution_count": null,
   "outputs": [],
   "source": [],
   "metadata": {
    "collapsed": false,
    "pycharm": {
     "name": "#%%\n"
    }
   }
  }
 ],
 "metadata": {
  "kernelspec": {
   "display_name": "Python 3 (ipykernel)",
   "language": "python",
   "name": "python3"
  },
  "language_info": {
   "codemirror_mode": {
    "name": "ipython",
    "version": 3
   },
   "file_extension": ".py",
   "mimetype": "text/x-python",
   "name": "python",
   "nbconvert_exporter": "python",
   "pygments_lexer": "ipython3",
   "version": "3.7.3"
  }
 },
 "nbformat": 4,
 "nbformat_minor": 5
}