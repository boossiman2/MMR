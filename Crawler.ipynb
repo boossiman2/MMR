{
 "cells": [
  {
   "cell_type": "code",
   "execution_count": 2,
   "id": "0fea2373",
   "metadata": {},
   "outputs": [],
   "source": [
    "import os\n",
    "import re\n",
    "import csv\n",
    "import requests\n",
    "import urllib.request\n",
    "import pandas as pd\n",
    "import numpy as np\n",
    "\n",
    "from urllib.error import HTTPError\n",
    "from bs4 import BeautifulSoup as bs"
   ]
  },
  {
   "cell_type": "code",
   "execution_count": 3,
   "id": "eda5ceca",
   "metadata": {},
   "outputs": [],
   "source": [
    "# csv preprocessisng for urls"
   ]
  },
  {
   "cell_type": "code",
   "execution_count": 4,
   "id": "63e02594",
   "metadata": {},
   "outputs": [],
   "source": [
    "mIds = pd.read_csv('./data/ml-20m/links.csv', encoding='utf-8')"
   ]
  },
  {
   "cell_type": "code",
   "execution_count": 5,
   "id": "bea21876",
   "metadata": {},
   "outputs": [],
   "source": [
    "mIds.drop(['tmdbId'], axis=1, inplace=True)"
   ]
  },
  {
   "cell_type": "code",
   "execution_count": 5,
   "id": "142fd694",
   "metadata": {},
   "outputs": [
    {
     "data": {
      "text/plain": [
       "0"
      ]
     },
     "execution_count": 5,
     "metadata": {},
     "output_type": "execute_result"
    }
   ],
   "source": [
    "mIds['movieId'].isnull().sum() # Finding null"
   ]
  },
  {
   "cell_type": "code",
   "execution_count": 6,
   "id": "39749459",
   "metadata": {},
   "outputs": [
    {
     "data": {
      "text/plain": [
       "0"
      ]
     },
     "execution_count": 6,
     "metadata": {},
     "output_type": "execute_result"
    }
   ],
   "source": [
    "mIds['imdbId'].isnull().sum() # Finding null"
   ]
  },
  {
   "cell_type": "code",
   "execution_count": 7,
   "id": "cccd5d1e",
   "metadata": {},
   "outputs": [],
   "source": [
    "def imdbIb_to_url(x):\n",
    "    return 'tt'+str(x).zfill(7)\n",
    "\n",
    "mIds['imdbId']= mIds['imdbId'].map(imdbIb_to_url)"
   ]
  },
  {
   "cell_type": "code",
   "execution_count": 8,
   "id": "e01ef949",
   "metadata": {},
   "outputs": [],
   "source": [
    "imdb_ref = 'https://www.imdb.com/title/'\n",
    "mIds['imdb_url'] = mIds['imdbId'].apply(lambda x: imdb_ref+x)"
   ]
  },
  {
   "cell_type": "code",
   "execution_count": 9,
   "id": "53ab7b1c",
   "metadata": {},
   "outputs": [],
   "source": [
    "ml_ref = 'https://movielens.org/movies/'\n",
    "mIds['ml_url'] = mIds['movieId'].apply(lambda x: ml_ref+str(x))"
   ]
  },
  {
   "cell_type": "code",
   "execution_count": 10,
   "id": "47ae0b76",
   "metadata": {},
   "outputs": [
    {
     "data": {
      "text/html": [
       "<div>\n",
       "<style scoped>\n",
       "    .dataframe tbody tr th:only-of-type {\n",
       "        vertical-align: middle;\n",
       "    }\n",
       "\n",
       "    .dataframe tbody tr th {\n",
       "        vertical-align: top;\n",
       "    }\n",
       "\n",
       "    .dataframe thead th {\n",
       "        text-align: right;\n",
       "    }\n",
       "</style>\n",
       "<table border=\"1\" class=\"dataframe\">\n",
       "  <thead>\n",
       "    <tr style=\"text-align: right;\">\n",
       "      <th></th>\n",
       "      <th>movieId</th>\n",
       "      <th>imdbId</th>\n",
       "      <th>tmdbId</th>\n",
       "      <th>imdb_url</th>\n",
       "      <th>ml_url</th>\n",
       "    </tr>\n",
       "  </thead>\n",
       "  <tbody>\n",
       "    <tr>\n",
       "      <th>0</th>\n",
       "      <td>1</td>\n",
       "      <td>tt0114709</td>\n",
       "      <td>862.0</td>\n",
       "      <td>https://www.imdb.com/title/tt0114709</td>\n",
       "      <td>https://movielens.org/movies/1</td>\n",
       "    </tr>\n",
       "    <tr>\n",
       "      <th>1</th>\n",
       "      <td>2</td>\n",
       "      <td>tt0113497</td>\n",
       "      <td>8844.0</td>\n",
       "      <td>https://www.imdb.com/title/tt0113497</td>\n",
       "      <td>https://movielens.org/movies/2</td>\n",
       "    </tr>\n",
       "    <tr>\n",
       "      <th>2</th>\n",
       "      <td>3</td>\n",
       "      <td>tt0113228</td>\n",
       "      <td>15602.0</td>\n",
       "      <td>https://www.imdb.com/title/tt0113228</td>\n",
       "      <td>https://movielens.org/movies/3</td>\n",
       "    </tr>\n",
       "    <tr>\n",
       "      <th>3</th>\n",
       "      <td>4</td>\n",
       "      <td>tt0114885</td>\n",
       "      <td>31357.0</td>\n",
       "      <td>https://www.imdb.com/title/tt0114885</td>\n",
       "      <td>https://movielens.org/movies/4</td>\n",
       "    </tr>\n",
       "    <tr>\n",
       "      <th>4</th>\n",
       "      <td>5</td>\n",
       "      <td>tt0113041</td>\n",
       "      <td>11862.0</td>\n",
       "      <td>https://www.imdb.com/title/tt0113041</td>\n",
       "      <td>https://movielens.org/movies/5</td>\n",
       "    </tr>\n",
       "  </tbody>\n",
       "</table>\n",
       "</div>"
      ],
      "text/plain": [
       "   movieId     imdbId   tmdbId                              imdb_url  \\\n",
       "0        1  tt0114709    862.0  https://www.imdb.com/title/tt0114709   \n",
       "1        2  tt0113497   8844.0  https://www.imdb.com/title/tt0113497   \n",
       "2        3  tt0113228  15602.0  https://www.imdb.com/title/tt0113228   \n",
       "3        4  tt0114885  31357.0  https://www.imdb.com/title/tt0114885   \n",
       "4        5  tt0113041  11862.0  https://www.imdb.com/title/tt0113041   \n",
       "\n",
       "                           ml_url  \n",
       "0  https://movielens.org/movies/1  \n",
       "1  https://movielens.org/movies/2  \n",
       "2  https://movielens.org/movies/3  \n",
       "3  https://movielens.org/movies/4  \n",
       "4  https://movielens.org/movies/5  "
      ]
     },
     "execution_count": 10,
     "metadata": {},
     "output_type": "execute_result"
    }
   ],
   "source": [
    "mIds.head(5)"
   ]
  },
  {
   "cell_type": "code",
   "execution_count": 11,
   "id": "1be73677",
   "metadata": {},
   "outputs": [
    {
     "data": {
      "text/html": [
       "<div>\n",
       "<style scoped>\n",
       "    .dataframe tbody tr th:only-of-type {\n",
       "        vertical-align: middle;\n",
       "    }\n",
       "\n",
       "    .dataframe tbody tr th {\n",
       "        vertical-align: top;\n",
       "    }\n",
       "\n",
       "    .dataframe thead th {\n",
       "        text-align: right;\n",
       "    }\n",
       "</style>\n",
       "<table border=\"1\" class=\"dataframe\">\n",
       "  <thead>\n",
       "    <tr style=\"text-align: right;\">\n",
       "      <th></th>\n",
       "      <th>movieId</th>\n",
       "      <th>imdbId</th>\n",
       "      <th>tmdbId</th>\n",
       "      <th>imdb_url</th>\n",
       "      <th>ml_url</th>\n",
       "    </tr>\n",
       "  </thead>\n",
       "  <tbody>\n",
       "    <tr>\n",
       "      <th>27273</th>\n",
       "      <td>131254</td>\n",
       "      <td>tt0466713</td>\n",
       "      <td>4436.0</td>\n",
       "      <td>https://www.imdb.com/title/tt0466713</td>\n",
       "      <td>https://movielens.org/movies/131254</td>\n",
       "    </tr>\n",
       "    <tr>\n",
       "      <th>27274</th>\n",
       "      <td>131256</td>\n",
       "      <td>tt0277703</td>\n",
       "      <td>9274.0</td>\n",
       "      <td>https://www.imdb.com/title/tt0277703</td>\n",
       "      <td>https://movielens.org/movies/131256</td>\n",
       "    </tr>\n",
       "    <tr>\n",
       "      <th>27275</th>\n",
       "      <td>131258</td>\n",
       "      <td>tt3485166</td>\n",
       "      <td>285213.0</td>\n",
       "      <td>https://www.imdb.com/title/tt3485166</td>\n",
       "      <td>https://movielens.org/movies/131258</td>\n",
       "    </tr>\n",
       "    <tr>\n",
       "      <th>27276</th>\n",
       "      <td>131260</td>\n",
       "      <td>tt0249110</td>\n",
       "      <td>32099.0</td>\n",
       "      <td>https://www.imdb.com/title/tt0249110</td>\n",
       "      <td>https://movielens.org/movies/131260</td>\n",
       "    </tr>\n",
       "    <tr>\n",
       "      <th>27277</th>\n",
       "      <td>131262</td>\n",
       "      <td>tt1724965</td>\n",
       "      <td>286971.0</td>\n",
       "      <td>https://www.imdb.com/title/tt1724965</td>\n",
       "      <td>https://movielens.org/movies/131262</td>\n",
       "    </tr>\n",
       "  </tbody>\n",
       "</table>\n",
       "</div>"
      ],
      "text/plain": [
       "       movieId     imdbId    tmdbId                              imdb_url  \\\n",
       "27273   131254  tt0466713    4436.0  https://www.imdb.com/title/tt0466713   \n",
       "27274   131256  tt0277703    9274.0  https://www.imdb.com/title/tt0277703   \n",
       "27275   131258  tt3485166  285213.0  https://www.imdb.com/title/tt3485166   \n",
       "27276   131260  tt0249110   32099.0  https://www.imdb.com/title/tt0249110   \n",
       "27277   131262  tt1724965  286971.0  https://www.imdb.com/title/tt1724965   \n",
       "\n",
       "                                    ml_url  \n",
       "27273  https://movielens.org/movies/131254  \n",
       "27274  https://movielens.org/movies/131256  \n",
       "27275  https://movielens.org/movies/131258  \n",
       "27276  https://movielens.org/movies/131260  \n",
       "27277  https://movielens.org/movies/131262  "
      ]
     },
     "execution_count": 11,
     "metadata": {},
     "output_type": "execute_result"
    }
   ],
   "source": [
    "mIds.tail(5)"
   ]
  },
  {
   "cell_type": "code",
   "execution_count": 12,
   "id": "4a1ce1b6",
   "metadata": {},
   "outputs": [],
   "source": [
    "# crawling through mIds"
   ]
  },
  {
   "cell_type": "code",
   "execution_count": 13,
   "id": "9e5ca64b",
   "metadata": {},
   "outputs": [],
   "source": [
    "# Function for making directories\n",
    "def makeDirs(path):\n",
    "    try:\n",
    "        os.makedirs(path)\n",
    "    except OSError:\n",
    "        if not os.path.isdir(path):\n",
    "            raise"
   ]
  },
  {
   "cell_type": "code",
   "execution_count": 14,
   "id": "53cf2abc",
   "metadata": {},
   "outputs": [],
   "source": [
    "def crawlTitle(soup):\n",
    "    title = soup.find('h1', attrs={'class':re.compile('^^TitleHeader')})    \n",
    "    #title = soup.select_one('#__next > main > div > section.ipc-page-background.ipc-page-background--base.TitlePage__StyledPageBackground-wzlr49-0.dDUGgO > section > div:nth-child(4) > section > section > div.TitleBlock__Container-sc-1nlhx7j-0.hglRHk > div.TitleBlock__TitleContainer-sc-1nlhx7j-1.jxsVNt > h1')\n",
    "    if title is not None:\n",
    "        return title.get_text()\n",
    "    return title"
   ]
  },
  {
   "cell_type": "code",
   "execution_count": 15,
   "id": "185603d0",
   "metadata": {},
   "outputs": [],
   "source": [
    "def crawlPlot(soup):\n",
    "    plot = soup.find('span', attrs={'class':re.compile('^^GenresAndPlot')})  \n",
    "    if plot is not None:\n",
    "        return plot.get_text()\n",
    "    return plot"
   ]
  },
  {
   "cell_type": "code",
   "execution_count": 16,
   "id": "b0a6f9a7",
   "metadata": {},
   "outputs": [],
   "source": [
    "def crawlPoster(soup):\n",
    "    img_url = soup.find('a', attrs={'aria-label':'View {Title} Poster'})\n",
    "    if img_url is None:\n",
    "        return None\n",
    "    img_url = 'https://www.imdb.com/' + re.search('href=\"(.+?)\"',str(img_url)).group(1)\n",
    "    raw = requests.get(img_url, headers = {\"User-Agent\" : \"Mozilla/5.0\"})\n",
    "    _soup = bs(raw.content, 'html.parser')\n",
    "    img_src = _soup.find_all('img')\n",
    "    return img_src"
   ]
  },
  {
   "cell_type": "code",
   "execution_count": 17,
   "id": "ed5de6ec",
   "metadata": {},
   "outputs": [],
   "source": [
    "# Plots data save at csv file\n",
    "def savePlot(idx,title, plot):\n",
    "    # write \n",
    "    with open(TXTPATH+'plots.csv', 'a+', newline='', encoding='utf-8') as csvfile:\n",
    "        csv_writer = csv.writer(csvfile)\n",
    "        csv_writer.writerow([idx,title,plot])    "
   ]
  },
  {
   "cell_type": "code",
   "execution_count": 57,
   "id": "b0a4c469",
   "metadata": {},
   "outputs": [],
   "source": [
    "# Image download to dir\n",
    "def savePoster(idx, poster):\n",
    "    if poster is None:\n",
    "        with open(TXTPATH+'no_poster.txt', 'a+', encoding='utf-8') as f:\n",
    "            f.write(f'{idx}\\n')\n",
    "            return -1\n",
    "    try:\n",
    "        urllib.request.urlretrieve(poster[1]['src'], IMGPATH+str(idx).zfill(6)+'.jpg')\n",
    "    except HTTPError as err:\n",
    "        if err.code == 404: \n",
    "            try: urllib.request.urlretrieve(poster[2]['src'], IMGPATH+str(idx).zfill(6)+'.jpg')            \n",
    "            except:\n",
    "                with open(TXTPATH+'no_poster.txt', 'a+', encoding='utf-8') as f:\n",
    "                    f.write(f'{idx}\\n')\n",
    "                    return -1           "
   ]
  },
  {
   "cell_type": "code",
   "execution_count": 61,
   "id": "22abb0d3",
   "metadata": {},
   "outputs": [],
   "source": [
    "IMGPATH = './data/posters/'\n",
    "TXTPATH = './data/'\n",
    "\n",
    "plots,posters = [], []\n",
    "urls = mIds['imdb_url']\n",
    "\n",
    "makeDirs(IMGPATH)"
   ]
  },
  {
   "cell_type": "code",
   "execution_count": 62,
   "id": "4d2dda45",
   "metadata": {},
   "outputs": [
    {
     "name": "stdout",
     "output_type": "stream",
     "text": [
      "0 43708\n",
      "1 43710\n"
     ]
    }
   ],
   "source": [
    "for i,url in enumerate(urls):\n",
    "    raw = requests.get(url, headers = {\"User-Agent\" : \"Mozilla/5.0\"})\n",
    "    soup = bs(raw.text, 'html.parser')\n",
    "    title = crawlTitle(soup)\n",
    "    plot = crawlPlot(soup)\n",
    "    poster = crawlPoster(soup)\n",
    "    # Check movieId\n",
    "    m_id = mIds.loc[mIds['imdb_url'] == url]['movieId'].to_numpy()[0]\n",
    "    print(i, m_id)\n",
    "    # Download in dir\n",
    "    savePlot(m_id,title, plot)\n",
    "    savePoster(m_id, poster)"
   ]
  },
  {
   "cell_type": "code",
   "execution_count": null,
   "id": "f2616570",
   "metadata": {},
   "outputs": [],
   "source": []
  },
  {
   "cell_type": "code",
   "execution_count": null,
   "id": "96b9e8fd",
   "metadata": {},
   "outputs": [],
   "source": []
  },
  {
   "cell_type": "code",
   "execution_count": null,
   "id": "3b02d46d",
   "metadata": {},
   "outputs": [],
   "source": []
  },
  {
   "cell_type": "code",
   "execution_count": 18,
   "id": "ab774e8a",
   "metadata": {},
   "outputs": [],
   "source": [
    "def crawlPlot(soup):\n",
    "    plot = soup.find('li', attrs={'class':'ipl-zebra-list__item'})\n",
    "    if plot is not None:\n",
    "        return plot.get_text()\n",
    "    return plot"
   ]
  },
  {
   "cell_type": "code",
   "execution_count": 36,
   "id": "50a3900b",
   "metadata": {},
   "outputs": [],
   "source": [
    "def crawlTitle(soup):\n",
    "    title = soup.find('a', attrs={'itemprop':'url'})    \n",
    "    #title = soup.select_one('#__next > main > div > section.ipc-page-background.ipc-page-background--base.TitlePage__StyledPageBackground-wzlr49-0.dDUGgO > section > div:nth-child(4) > section > section > div.TitleBlock__Container-sc-1nlhx7j-0.hglRHk > div.TitleBlock__TitleContainer-sc-1nlhx7j-1.jxsVNt > h1')\n",
    "    if title is not None:\n",
    "        return title.get_text()\n",
    "    return title"
   ]
  },
  {
   "cell_type": "code",
   "execution_count": 39,
   "id": "bb2fae86",
   "metadata": {},
   "outputs": [],
   "source": [
    "# Plots data save at csv file\n",
    "def savePlot(idx,title, plot):\n",
    "    # write \n",
    "    with open(TXTPATH+'plots_.csv', 'a+', newline='', encoding='utf-8') as csvfile:\n",
    "        csv_writer = csv.writer(csvfile)\n",
    "        csv_writer.writerow([idx,title,plot])    "
   ]
  },
  {
   "cell_type": "code",
   "execution_count": 42,
   "id": "72ddd538",
   "metadata": {},
   "outputs": [],
   "source": [
    "IMGPATH = './data/posters/'\n",
    "TXTPATH = './data/'\n",
    "\n",
    "plots,posters = [], []\n",
    "urls = mIds['imdb_url'][15:16]\n",
    "\n",
    "makeDirs(IMGPATH)"
   ]
  },
  {
   "cell_type": "code",
   "execution_count": 43,
   "id": "c5f1c469",
   "metadata": {},
   "outputs": [
    {
     "name": "stdout",
     "output_type": "stream",
     "text": [
      "https://www.imdb.com/title/tt0112641/plotsummary?ref_=tt_ov_pl\n",
      "https://www.imdb.com/title/tt0112641\n",
      "0 16\n",
      "Casino \n",
      "A tale of greed, deception, money, power, and murder occur between two best friends: a mafia enforcer and a casino executive compete against each other over a gambling empire, and over a fast-living and fast-loving socialite.\n",
      "\n"
     ]
    }
   ],
   "source": [
    "for i,url in enumerate(urls):\n",
    "    url += '/plotsummary?ref_=tt_ov_pl'\n",
    "    print(url)\n",
    "    raw = requests.get(url, headers = {\"User-Agent\" : \"Mozilla/5.0\"})\n",
    "    soup = bs(raw.text, 'html.parser')\n",
    "    plot = crawlPlot(soup)\n",
    "    title = crawlTitle(soup)\n",
    "    # Check movieId\n",
    "    url = url.replace('/plotsummary?ref_=tt_ov_pl','')\n",
    "    print(url)\n",
    "    m_id = mIds.loc[mIds['imdb_url'] == url]['movieId'].to_numpy()[0]\n",
    "    print(i, m_id)\n",
    "    # Download in dir\n",
    "    print(title,plot)\n",
    "    savePlot(m_id,title, plot)\n"
   ]
  },
  {
   "cell_type": "markdown",
   "id": "249daf71",
   "metadata": {},
   "source": [
    "https://www.imdb.com/title/tt0198781/plotsummary?ref_=tt_ov_pl"
   ]
  },
  {
   "cell_type": "code",
   "execution_count": null,
   "id": "38689919",
   "metadata": {},
   "outputs": [],
   "source": []
  }
 ],
 "metadata": {
  "kernelspec": {
   "display_name": "Python 3 (ipykernel)",
   "language": "python",
   "name": "python3"
  },
  "language_info": {
   "codemirror_mode": {
    "name": "ipython",
    "version": 3
   },
   "file_extension": ".py",
   "mimetype": "text/x-python",
   "name": "python",
   "nbconvert_exporter": "python",
   "pygments_lexer": "ipython3",
   "version": "3.8.12"
  }
 },
 "nbformat": 4,
 "nbformat_minor": 5
}
